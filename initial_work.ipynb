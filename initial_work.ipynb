{
 "metadata": {
  "name": "initial_work"
 },
 "nbformat": 3,
 "nbformat_minor": 0,
 "worksheets": [
  {
   "cells": [
    {
     "cell_type": "markdown",
     "metadata": {},
     "source": [
      "Download a \"million song subset\" (1%, 1.8 GB) here:\n",
      "http://labrosa.ee.columbia.edu/millionsong/pages/getting-dataset\n",
      "\n",
      "Keep it in data/"
     ]
    },
    {
     "cell_type": "code",
     "collapsed": false,
     "input": [
      "import pandas as pd\n",
      "from matplotlib import pyplot as plt"
     ],
     "language": "python",
     "metadata": {},
     "outputs": [],
     "prompt_number": 1
    },
    {
     "cell_type": "markdown",
     "metadata": {},
     "source": [
      "Let's look at the summary file."
     ]
    },
    {
     "cell_type": "code",
     "collapsed": false,
     "input": [
      "summary = pd.HDFStore('data/MillionSongSubset/AdditionalFiles/subset_msd_summary_file.h5')"
     ],
     "language": "python",
     "metadata": {},
     "outputs": [],
     "prompt_number": 2
    },
    {
     "cell_type": "code",
     "collapsed": false,
     "input": [
      "summary.keys()"
     ],
     "language": "python",
     "metadata": {},
     "outputs": [
      {
       "output_type": "pyout",
       "prompt_number": 3,
       "text": [
        "['/analysis/songs', '/metadata/songs', '/musicbrainz/songs']"
       ]
      }
     ],
     "prompt_number": 3
    },
    {
     "cell_type": "code",
     "collapsed": false,
     "input": [
      "song_summary = summary['analysis/songs']\n",
      "for key in song_summary:\n",
      "    print str(song_summary[key][:1]) + '\\n'"
     ],
     "language": "python",
     "metadata": {},
     "outputs": [
      {
       "output_type": "stream",
       "stream": "stdout",
       "text": [
        "0    22050\n",
        "Name: analysis_sample_rate, dtype: int32\n",
        "\n",
        "0    a600d65cf157a306be60f26ecbf218f4\n",
        "Name: audio_md5, dtype: object\n",
        "\n",
        "0    0\n",
        "Name: danceability, dtype: float64\n",
        "\n",
        "0    280.21506\n",
        "Name: duration, dtype: float64\n",
        "\n",
        "0    0.238\n",
        "Name: end_of_fade_in, dtype: float64\n",
        "\n",
        "0    0\n",
        "Name: energy, dtype: float64\n",
        "\n",
        "0    0\n",
        "Name: idx_bars_confidence, dtype: int32\n",
        "\n",
        "0    0\n",
        "Name: idx_bars_start, dtype: int32\n",
        "\n",
        "0    0\n",
        "Name: idx_beats_confidence, dtype: int32\n",
        "\n",
        "0    0\n",
        "Name: idx_beats_start, dtype: int32\n",
        "\n",
        "0    0\n",
        "Name: idx_sections_confidence, dtype: int32\n",
        "\n",
        "0    0\n",
        "Name: idx_sections_start, dtype: int32\n",
        "\n",
        "0    0\n",
        "Name: idx_segments_confidence, dtype: int32\n",
        "\n",
        "0    0\n",
        "Name: idx_segments_loudness_max, dtype: int32\n",
        "\n",
        "0    0\n",
        "Name: idx_segments_loudness_max_time, dtype: int32\n",
        "\n",
        "0    0\n",
        "Name: idx_segments_loudness_start, dtype: int32\n",
        "\n",
        "0    0\n",
        "Name: idx_segments_pitches, dtype: int32\n",
        "\n",
        "0    0\n",
        "Name: idx_segments_start, dtype: int32\n",
        "\n",
        "0    0\n",
        "Name: idx_segments_timbre, dtype: int32\n",
        "\n",
        "0    0\n",
        "Name: idx_tatums_confidence, dtype: int32\n",
        "\n",
        "0    0\n",
        "Name: idx_tatums_start, dtype: int32\n",
        "\n",
        "0    5\n",
        "Name: key, dtype: int32\n"
       ]
      },
      {
       "output_type": "stream",
       "stream": "stdout",
       "text": [
        "\n",
        "0    0.555\n",
        "Name: key_confidence, dtype: float64\n",
        "\n",
        "0   -3.306\n",
        "Name: loudness, dtype: float64\n",
        "\n",
        "0    1\n",
        "Name: mode, dtype: int32\n",
        "\n",
        "0    0.5\n",
        "Name: mode_confidence, dtype: float64\n",
        "\n",
        "0    275.528\n",
        "Name: start_of_fade_out, dtype: float64\n",
        "\n",
        "0    173.205\n",
        "Name: tempo, dtype: float64\n",
        "\n",
        "0    5\n",
        "Name: time_signature, dtype: int32\n",
        "\n",
        "0    0.12\n",
        "Name: time_signature_confidence, dtype: float64\n",
        "\n",
        "0    TRACCVZ128F4291A8A\n",
        "Name: track_id, dtype: object\n",
        "\n"
       ]
      }
     ],
     "prompt_number": 4
    },
    {
     "cell_type": "markdown",
     "metadata": {},
     "source": [
      "Duration should be easy enough to handle for a start."
     ]
    },
    {
     "cell_type": "code",
     "collapsed": false,
     "input": [
      "plt.figure(figsize=(10, 6))\n",
      "durations = pd.Series.hist(song_summary['duration'] / 60.0, bins=100)\n",
      "plt.xlabel('Duration (minutes)')\n",
      "plt.ylabel('Count')\n",
      "plt.show()"
     ],
     "language": "python",
     "metadata": {},
     "outputs": [
      {
       "output_type": "display_data",
       "png": "[encoded data removed]"
      }
     ],
     "prompt_number": 5
    },
    {
     "cell_type": "code",
     "collapsed": false,
     "input": [],
     "language": "python",
     "metadata": {},
     "outputs": [],
     "prompt_number": 5
    }
   ],
   "metadata": {}
  }
 ]
}