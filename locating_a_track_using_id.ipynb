{
 "metadata": {
  "name": "locating_a_track_using_id"
 },
 "nbformat": 3,
 "nbformat_minor": 0,
 "worksheets": [
  {
   "cells": [
    {
     "cell_type": "code",
     "collapsed": false,
     "input": [
      "import pandas as pd"
     ],
     "language": "python",
     "metadata": {},
     "outputs": [],
     "prompt_number": 1
    },
    {
     "cell_type": "code",
     "collapsed": false,
     "input": [
      "with open('data/MillionSongSubset/AdditionalFiles/subset_unique_tracks.txt') as tracks:\n",
      "    first_track = tracks.readline().strip().split('<SEP>')\n",
      "    print first_track"
     ],
     "language": "python",
     "metadata": {},
     "outputs": [
      {
       "output_type": "stream",
       "stream": "stdout",
       "text": [
        "['TRAAAAW128F429D538', 'SOMZWCG12A8C13C480', 'Casual', \"I Didn't Mean To\"]\n"
       ]
      }
     ],
     "prompt_number": 6
    },
    {
     "cell_type": "markdown",
     "metadata": {},
     "source": [
      "The location of a track is given by the first 3 letters of its ID after \"TR.\""
     ]
    },
    {
     "cell_type": "code",
     "collapsed": false,
     "input": [
      "location = [first_track[0][i] for i in xrange(2, 5)] + [first_track[0]]\n",
      "print location"
     ],
     "language": "python",
     "metadata": {},
     "outputs": [
      {
       "output_type": "stream",
       "stream": "stdout",
       "text": [
        "['A', 'A', 'A', 'TRAAAAW128F429D538']\n"
       ]
      }
     ],
     "prompt_number": 39
    },
    {
     "cell_type": "code",
     "collapsed": false,
     "input": [
      "song = pd.HDFStore('data/MillionSongSubset/data/{}/{}/{}/{}.h5'.format(*location))"
     ],
     "language": "python",
     "metadata": {},
     "outputs": [],
     "prompt_number": 36
    },
    {
     "cell_type": "code",
     "collapsed": false,
     "input": [
      "song_info = song['analysis/songs']"
     ],
     "language": "python",
     "metadata": {},
     "outputs": [],
     "prompt_number": 40
    },
    {
     "cell_type": "code",
     "collapsed": false,
     "input": [
      "for key in song_info:\n",
      "    if song_info[key]:\n",
      "        print key, song_info[key]\n",
      "        print ''"
     ],
     "language": "python",
     "metadata": {},
     "outputs": [
      {
       "output_type": "stream",
       "stream": "stdout",
       "text": [
        "analysis_sample_rate 0    22050\n",
        "Name: analysis_sample_rate, dtype: int32\n",
        "\n",
        "audio_md5 0    a222795e07cd65b7a530f1346f520649\n",
        "Name: audio_md5, dtype: object\n",
        "\n",
        "duration 0    218.93179\n",
        "Name: duration, dtype: float64\n",
        "\n",
        "end_of_fade_in 0    0.247\n",
        "Name: end_of_fade_in, dtype: float64\n",
        "\n",
        "key 0    1\n",
        "Name: key, dtype: int32\n",
        "\n",
        "key_confidence 0    0.736\n",
        "Name: key_confidence, dtype: float64\n",
        "\n",
        "loudness 0   -11.197\n",
        "Name: loudness, dtype: float64\n",
        "\n",
        "mode_confidence 0    0.636\n",
        "Name: mode_confidence, dtype: float64\n",
        "\n",
        "start_of_fade_out 0    218.932\n",
        "Name: start_of_fade_out, dtype: float64\n",
        "\n",
        "tempo 0    92.198\n",
        "Name: tempo, dtype: float64\n",
        "\n",
        "time_signature 0    4\n",
        "Name: time_signature, dtype: int32\n",
        "\n",
        "time_signature_confidence 0    0.778\n",
        "Name: time_signature_confidence, dtype: float64\n",
        "\n",
        "track_id 0    TRAAAAW128F429D538\n",
        "Name: track_id, dtype: object\n",
        "\n"
       ]
      }
     ],
     "prompt_number": 68
    },
    {
     "cell_type": "code",
     "collapsed": false,
     "input": [
      "song_metadata = song['metadata/songs']\n",
      "for key in song_metadata:\n",
      "    if song_metadata[key]:\n",
      "        print key, song_metadata[key]\n",
      "        print ''"
     ],
     "language": "python",
     "metadata": {},
     "outputs": [
      {
       "output_type": "stream",
       "stream": "stdout",
       "text": [
        "artist_7digitalid 0    165270\n",
        "Name: artist_7digitalid, dtype: int32\n",
        "\n",
        "artist_familiarity 0    0.581794\n",
        "Name: artist_familiarity, dtype: float64\n",
        "\n",
        "artist_hotttnesss 0    0.401998\n",
        "Name: artist_hotttnesss, dtype: float64\n",
        "\n",
        "artist_id 0    ARD7TVE1187B99BFB1\n",
        "Name: artist_id, dtype: object\n",
        "\n",
        "artist_latitude 0   NaN\n",
        "Name: artist_latitude, dtype: float64\n",
        "\n",
        "artist_location 0    California - LA\n",
        "Name: artist_location, dtype: object\n",
        "\n",
        "artist_longitude 0   NaN\n",
        "Name: artist_longitude, dtype: float64\n",
        "\n",
        "artist_mbid 0    e77e51a5-4761-45b3-9847-2051f811e366\n",
        "Name: artist_mbid, dtype: object\n",
        "\n",
        "artist_name 0    Casual\n",
        "Name: artist_name, dtype: object\n",
        "\n",
        "artist_playmeid 0    4479\n",
        "Name: artist_playmeid, dtype: int32\n",
        "\n",
        "release 0    Fear Itself\n",
        "Name: release, dtype: object\n",
        "\n",
        "release_7digitalid 0    300848\n",
        "Name: release_7digitalid, dtype: int32\n",
        "\n",
        "song_hotttnesss 0    0.60212\n",
        "Name: song_hotttnesss, dtype: float64\n",
        "\n",
        "song_id 0    SOMZWCG12A8C13C480\n",
        "Name: song_id, dtype: object\n",
        "\n",
        "title 0    I Didn't Mean To\n",
        "Name: title, dtype: object\n",
        "\n",
        "track_7digitalid 0    3401791\n",
        "Name: track_7digitalid, dtype: int32\n",
        "\n"
       ]
      }
     ],
     "prompt_number": 69
    },
    {
     "cell_type": "code",
     "collapsed": false,
     "input": [],
     "language": "python",
     "metadata": {},
     "outputs": []
    }
   ],
   "metadata": {}
  }
 ]
}