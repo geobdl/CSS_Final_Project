{
 "metadata": {
  "name": "additional_file_guide"
 },
 "nbformat": 3,
 "nbformat_minor": 0,
 "worksheets": [
  {
   "cells": [
    {
     "cell_type": "code",
     "collapsed": false,
     "input": [
      "import pandas as pd\n",
      "from pandas.io import sql\n",
      "import sqlite3"
     ],
     "language": "python",
     "metadata": {},
     "outputs": [],
     "prompt_number": 2
    },
    {
     "cell_type": "markdown",
     "metadata": {},
     "source": [
      "Probably useless additional files:\n",
      "\n",
      "* subset_artist_location.txt -- Geographic location of artist\n",
      "* subset_artist_similarity.db -- List of pairs of similar artists... I think."
     ]
    },
    {
     "cell_type": "code",
     "collapsed": false,
     "input": [
      "cnx = sqlite3.connect('data/MillionSongSubset/AdditionalFiles/subset_artist_similarity.db')\n",
      "c = cnx.cursor()\n",
      "c.execute('SELECT * FROM whatever;')"
     ],
     "language": "python",
     "metadata": {},
     "outputs": [
      {
       "ename": "OperationalError",
       "evalue": "no such table: whatever",
       "output_type": "pyerr",
       "traceback": [
        "\u001b[1;31m---------------------------------------------------------------------------\u001b[0m\n\u001b[1;31mOperationalError\u001b[0m                          Traceback (most recent call last)",
        "\u001b[1;32m<ipython-input-3-3afd802f11ba>\u001b[0m in \u001b[0;36m<module>\u001b[1;34m()\u001b[0m\n\u001b[0;32m      1\u001b[0m \u001b[0mcnx\u001b[0m \u001b[1;33m=\u001b[0m \u001b[0msqlite3\u001b[0m\u001b[1;33m.\u001b[0m\u001b[0mconnect\u001b[0m\u001b[1;33m(\u001b[0m\u001b[1;34m'data/MillionSongSubset/AdditionalFiles/subset_artist_similarity.db'\u001b[0m\u001b[1;33m)\u001b[0m\u001b[1;33m\u001b[0m\u001b[0m\n\u001b[0;32m      2\u001b[0m \u001b[0mc\u001b[0m \u001b[1;33m=\u001b[0m \u001b[0mcnx\u001b[0m\u001b[1;33m.\u001b[0m\u001b[0mcursor\u001b[0m\u001b[1;33m(\u001b[0m\u001b[1;33m)\u001b[0m\u001b[1;33m\u001b[0m\u001b[0m\n\u001b[1;32m----> 3\u001b[1;33m \u001b[0mc\u001b[0m\u001b[1;33m.\u001b[0m\u001b[0mexecute\u001b[0m\u001b[1;33m(\u001b[0m\u001b[1;34m'SELECT * FROM whatever;'\u001b[0m\u001b[1;33m)\u001b[0m\u001b[1;33m\u001b[0m\u001b[0m\n\u001b[0m",
        "\u001b[1;31mOperationalError\u001b[0m: no such table: whatever"
       ]
      }
     ],
     "prompt_number": 3
    },
    {
     "cell_type": "markdown",
     "metadata": {},
     "source": [
      "Potentially useful additional files:\n",
      "\n",
      "* subset_artist_term.db -- Tags associated with each artist.\n",
      "* subset_unique_mbtags.txt -- List of musicbrainz tags.\n",
      "* subset_unique_terms.txt -- List of tags (Echo nest?)."
     ]
    },
    {
     "cell_type": "markdown",
     "metadata": {},
     "source": [
      "Useful additional files:\n",
      "\n",
      "* subset_msd_summary_file.h5 -- Some summarized information about the dataset.\n",
      "* subset_track_metadata.db -- Title, album, artist, duration, some artist information, and release year (incomplete for some reason)\n",
      "* subset_tracks_per_year.txt -- For every year, lists all tracks. About half the tracks are in here.\n",
      "* subset_unique_artists.txt -- List of artists.\n",
      "* subset_unique_tracks.txt -- List of all tracks with IDs."
     ]
    },
    {
     "cell_type": "code",
     "collapsed": false,
     "input": [],
     "language": "python",
     "metadata": {},
     "outputs": []
    }
   ],
   "metadata": {}
  }
 ]
}